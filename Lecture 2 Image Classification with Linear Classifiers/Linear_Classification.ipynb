{
  "nbformat": 4,
  "nbformat_minor": 0,
  "metadata": {
    "colab": {
      "provenance": []
    },
    "kernelspec": {
      "name": "python3",
      "display_name": "Python 3"
    },
    "language_info": {
      "name": "python"
    }
  },
  "cells": [
    {
      "cell_type": "code",
      "execution_count": null,
      "metadata": {
        "colab": {
          "base_uri": "https://localhost:8080/"
        },
        "id": "09hVRaxyFJdJ",
        "outputId": "2b028181-03d0-4bc4-df56-76d89c2587f4"
      },
      "outputs": [
        {
          "output_type": "stream",
          "name": "stdout",
          "text": [
            "Descargando CIFAR-10...\n"
          ]
        }
      ],
      "source": [
        "# Librerías necesarias\n",
        "import numpy as np\n",
        "import pickle, tarfile, os\n",
        "from urllib.request import urlretrieve\n",
        "\n",
        "# Función para cargar CIFAR-10\n",
        "def load_CIFAR10(path):\n",
        "    url = 'https://www.cs.toronto.edu/~kriz/cifar-10-python.tar.gz'\n",
        "    if not os.path.exists(path): os.makedirs(path)\n",
        "    tgz_path = os.path.join(path, 'cifar-10-python.tar.gz')\n",
        "    if not os.path.exists(tgz_path):\n",
        "        print(\"Descargando CIFAR-10...\")\n",
        "        urlretrieve(url, tgz_path)\n",
        "    with tarfile.open(tgz_path, 'r:gz') as tar:\n",
        "        tar.extractall(path)\n",
        "    def load_batch(file):\n",
        "        with open(file, 'rb') as f:\n",
        "            d = pickle.load(f, encoding='bytes')\n",
        "            return d[b'data'], d[b'labels']\n",
        "    Xs, Ys = [], []\n",
        "    for i in range(1, 6):\n",
        "        X, Y = load_batch(os.path.join(path, 'cifar-10-batches-py', f'data_batch_{i}'))\n",
        "        Xs.append(X); Ys.append(Y)\n",
        "    Xtr = np.concatenate(Xs); Ytr = np.concatenate(Ys)\n",
        "    return Xtr, np.array(Ytr)\n",
        "\n",
        "# Cargar datos\n",
        "Xtr, Ytr = load_CIFAR10('data/cifar10/')\n",
        "\n"
      ]
    },
    {
      "cell_type": "code",
      "source": [
        "# Reducir tamaño para ejecución rápida\n",
        "Xtr = Xtr[:400]\n",
        "Ytr = Ytr[:400]\n",
        "\n",
        "# Aplanar (ya está en 3072), agregar bias (columna de 1's)\n",
        "Xtr = np.hstack([Xtr, np.ones((Xtr.shape[0], 1))])  # (400, 3073)\n",
        "\n",
        "# Transponer a (3073, N)\n",
        "Xtr = Xtr.T  # (3073, 400)\n"
      ],
      "metadata": {
        "colab": {
          "base_uri": "https://localhost:8080/"
        },
        "id": "DAtlPjo9FjKa",
        "outputId": "fb788c74-0c6a-4b63-ea1f-5839d99561c4"
      },
      "execution_count": null,
      "outputs": [
        {
          "output_type": "stream",
          "name": "stdout",
          "text": [
            "Loss (no vectorizado): 9.000326337987813\n",
            "Loss (semi vectorizado): 9.000326337987811\n",
            "Loss (total vectorizado): 9.000056318304365\n"
          ]
        }
      ]
    },
    {
      "cell_type": "code",
      "source": [
        "def L(X, y, W):\n",
        "    delta = 1.0\n",
        "    scores = W.dot(X)  # (C, N)\n",
        "    correct_class_scores = scores[y, np.arange(X.shape[1])]  # (N,)\n",
        "    margins = np.maximum(0, scores - correct_class_scores + delta)\n",
        "    margins[y, np.arange(X.shape[1])] = 0\n",
        "    return np.sum(margins) / X.shape[1]  # promedio de la pérdida\n",
        "\n"
      ],
      "metadata": {
        "colab": {
          "base_uri": "https://localhost:8080/"
        },
        "id": "lcCPYqIiFlcl",
        "outputId": "57cc7fb6-a00c-41da-a401-10d134f65c18"
      },
      "execution_count": null,
      "outputs": [
        {
          "output_type": "stream",
          "name": "stdout",
          "text": [
            "SVM Loss (CIFAR-10): 42.29002912983443\n"
          ]
        }
      ]
    },
    {
      "cell_type": "code",
      "source": [
        "# Inicializar pesos aleatorios pequeños\n",
        "W = np.random.randn(10, 3073) * 0.001  # 10 clases, 3073 características\n",
        "\n",
        "# Calcular pérdida\n",
        "loss = L(Xtr, Ytr, W)\n",
        "print(\"SVM Loss en CIFAR-10:\", loss)\n"
      ],
      "metadata": {
        "colab": {
          "base_uri": "https://localhost:8080/"
        },
        "id": "AxN9mGCxF4CT",
        "outputId": "3ce8ef43-4f4a-4681-f0b2-b08d171b7459"
      },
      "execution_count": null,
      "outputs": [
        {
          "output_type": "stream",
          "name": "stdout",
          "text": [
            "SVM Loss en CIFAR-10: 35.97577998080269\n"
          ]
        }
      ]
    }
  ]
}